{
 "cells": [
  {
   "cell_type": "code",
   "execution_count": null,
   "id": "224412dd",
   "metadata": {},
   "outputs": [],
   "source": [
    "import ipywidgets as widgets\n",
    "from IPython.display import display, clear_output\n",
    "import datetime\n",
    "import pandas as pd\n",
    "import matplotlib.pyplot as plt\n",
    "import seaborn as sns\n",
    "from elasticsearch8 import Elasticsearch\n",
    "from elasticsearch.helpers import scan"
   ]
  },
  {
   "cell_type": "code",
   "execution_count": null,
   "id": "b6fa010e",
   "metadata": {},
   "outputs": [],
   "source": [
    "# ==================== 1. Initialise Elasticsearch ====================\n",
    "es = Elasticsearch(\n",
    "    [\"https://elasticsearch-master.elastic.svc.cluster.local:9200\"],\n",
    "    basic_auth=(\"elastic\", \"elastic\"),\n",
    "    verify_certs=False\n",
    ")\n",
    "assert es.ping(), \"can't ping by ES\"\n",
    "print(\"Elasticsearch connection success\")\n",
    "# ==================== 2. control set ====================\n",
    "facebook_blue = \"#3b5998\"\n",
    "border_style = f'2px solid {facebook_blue}'"
   ]
  },
  {
   "cell_type": "code",
   "execution_count": null,
   "id": "537b9b4c",
   "metadata": {},
   "outputs": [],
   "source": [
    "before_button = widgets.Button(\n",
    "    description=\"Before election\",\n",
    "    layout=widgets.Layout(width=\"150px\", border=border_style),\n",
    "    style={'button_color': 'white', 'font_weight': 'bold', 'font_color': facebook_blue}\n",
    ")"
   ]
  },
  {
   "cell_type": "code",
   "execution_count": null,
   "id": "54129cfb",
   "metadata": {},
   "outputs": [],
   "source": [
    "after_button = widgets.Button(\n",
    "    description=\"After election\",\n",
    "    layout=widgets.Layout(width=\"150px\", border=border_style),\n",
    "    style={'button_color': 'white', 'font_weight': 'bold', 'font_color': facebook_blue}\n",
    ")"
   ]
  },
  {
   "cell_type": "code",
   "execution_count": null,
   "id": "1e116899",
   "metadata": {},
   "outputs": [],
   "source": [
    "start_date_picker = widgets.DatePicker(description='Start Date', value=datetime.date(2022, 4, 1))\n",
    "end_date_picker = widgets.DatePicker(description='End Date', value=datetime.date(2022, 5, 31))"
   ]
  },
  {
   "cell_type": "code",
   "execution_count": null,
   "id": "2a911bc0",
   "metadata": {
    "lines_to_next_cell": 1
   },
   "outputs": [],
   "source": [
    "top_controls = widgets.HBox([before_button, after_button])\n",
    "date_controls = widgets.HBox([start_date_picker, end_date_picker])\n",
    "output_area = widgets.Output()\n",
    "display(widgets.VBox([top_controls, date_controls, output_area]))"
   ]
  },
  {
   "cell_type": "code",
   "execution_count": null,
   "id": "3ef9a16d",
   "metadata": {
    "lines_to_next_cell": 1
   },
   "outputs": [],
   "source": [
    "# ==================== 3. colour relation function ====================\n",
    "def select_button(selected, unselected):\n",
    "    selected.style.button_color = facebook_blue\n",
    "    selected.style.font_color = 'white'\n",
    "    unselected.style.button_color = 'white'\n",
    "    unselected.style.font_color = facebook_blue"
   ]
  },
  {
   "cell_type": "code",
   "execution_count": null,
   "id": "2cf685f5",
   "metadata": {
    "lines_to_next_cell": 1
   },
   "outputs": [],
   "source": [
    "# ==================== 4. access ES datas ====================\n",
    "def fetch_filtered_data(start_date, end_date):\n",
    "    query = {\n",
    "        \"size\": 10000,\n",
    "        \"query\": {\n",
    "            \"range\": {\n",
    "                \"created_at\": {\n",
    "                    \"gte\": start_date.strftime('%Y-%m-%d'),\n",
    "                    \"lte\": end_date.strftime('%Y-%m-%d')\n",
    "                }\n",
    "            }\n",
    "        }\n",
    "    }\n",
    "\n",
    "    index_name = \"election_analysis\"\n",
    "    res = es.search(index=index_name, body=query)\n",
    "    records = []\n",
    "    for hit in res[\"hits\"][\"hits\"]:\n",
    "        src = hit[\"_source\"]\n",
    "        records.append({\n",
    "            \"emotion_label\": src.get(\"emotion_label\"),\n",
    "            \"post_time_of_day\": src.get(\"post_time_of_day\"),\n",
    "            \"location\": src.get(\"location\")\n",
    "        })\n",
    "    return pd.DataFrame(records)"
   ]
  },
  {
   "cell_type": "code",
   "execution_count": null,
   "id": "516cebcc",
   "metadata": {
    "lines_to_next_cell": 1
   },
   "outputs": [],
   "source": [
    "# ==================== 5. draw graph ====================\n",
    "def plot_sentiment_by_state(df):\n",
    "    output_area.clear_output()\n",
    "    with output_area:\n",
    "        city_to_state = {\n",
    "            'Sydney': 'New South Wales',\n",
    "            'Melbourne': 'Victoria',\n",
    "            'Brisbane': 'Queensland',\n",
    "            'Perth': 'Western Australia',\n",
    "            'Adelaide': 'South Australia',\n",
    "            'Hobart': 'Tasmania',\n",
    "            'Darwin': 'Northern Territory',\n",
    "            'Canberra': 'Australian Capital Territory'\n",
    "        }\n",
    "        df['state'] = df['location'].map(city_to_state)\n",
    "        df_state = df.dropna(subset=['state'])\n",
    "        if df_state.empty:\n",
    "            print(\"there is no valid data during this time\")\n",
    "            return\n",
    "        state_sentiment_data = df_state.groupby(['state', 'emotion_label']).size().reset_index(name='count')\n",
    "        emotion_labels = state_sentiment_data['emotion_label'].unique()\n",
    "        colors = sns.color_palette(\"Blues\", n_colors=len(emotion_labels))\n",
    "        sentiment_palette = dict(zip(emotion_labels, colors))\n",
    "\n",
    "        plt.figure(figsize=(12, 6))\n",
    "        sns.barplot(\n",
    "            data=state_sentiment_data,\n",
    "            x='state',\n",
    "            y='count',\n",
    "            hue='emotion_label',\n",
    "            palette=sentiment_palette\n",
    "        )\n",
    "        plt.xticks(rotation=45, ha='right')\n",
    "        plt.title('Number of Posts by State and Sentiment', fontsize=14)\n",
    "        plt.xlabel('State')\n",
    "        plt.ylabel('Number of Posts')\n",
    "        plt.legend(title='Sentiment')\n",
    "        plt.tight_layout()\n",
    "        plt.grid(axis='y')\n",
    "        plt.show()"
   ]
  },
  {
   "cell_type": "code",
   "execution_count": null,
   "id": "244d27f9",
   "metadata": {
    "lines_to_next_cell": 1
   },
   "outputs": [],
   "source": [
    "# ==================== 6. callback binding ====================\n",
    "def update_chart(start_date, end_date):\n",
    "    df = fetch_filtered_data(start_date, end_date)\n",
    "    plot_sentiment_by_state(df)"
   ]
  },
  {
   "cell_type": "code",
   "execution_count": null,
   "id": "6e4bdbaa",
   "metadata": {
    "lines_to_next_cell": 1
   },
   "outputs": [],
   "source": [
    "def on_before_click(b):\n",
    "    select_button(before_button, after_button)\n",
    "    start_date_picker.value = datetime.date(2022, 3, 1)\n",
    "    end_date_picker.value = datetime.date(2022, 5, 20)\n",
    "    update_chart(start_date_picker.value, end_date_picker.value)"
   ]
  },
  {
   "cell_type": "code",
   "execution_count": null,
   "id": "4094793a",
   "metadata": {
    "lines_to_next_cell": 1
   },
   "outputs": [],
   "source": [
    "def on_after_click(b):\n",
    "    select_button(after_button, before_button)\n",
    "    start_date_picker.value = datetime.date(2022, 5, 21)\n",
    "    end_date_picker.value = datetime.date(2022, 7, 15)\n",
    "    update_chart(start_date_picker.value, end_date_picker.value)"
   ]
  },
  {
   "cell_type": "code",
   "execution_count": null,
   "id": "24b28600",
   "metadata": {
    "lines_to_next_cell": 1
   },
   "outputs": [],
   "source": [
    "def on_date_change(change):\n",
    "    if start_date_picker.value and end_date_picker.value:\n",
    "        update_chart(start_date_picker.value, end_date_picker.value)"
   ]
  },
  {
   "cell_type": "code",
   "execution_count": null,
   "id": "b9c6be3f",
   "metadata": {},
   "outputs": [],
   "source": [
    "before_button.on_click(on_before_click)\n",
    "after_button.on_click(on_after_click)\n",
    "start_date_picker.observe(on_date_change, names='value')\n",
    "end_date_picker.observe(on_date_change, names='value')"
   ]
  }
 ],
 "metadata": {
  "jupytext": {
   "cell_metadata_filter": "-all",
   "main_language": "python",
   "notebook_metadata_filter": "-all"
  }
 },
 "nbformat": 4,
 "nbformat_minor": 5
}
