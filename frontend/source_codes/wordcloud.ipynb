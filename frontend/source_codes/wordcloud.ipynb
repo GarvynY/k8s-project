{
 "cells": [
  {
   "cell_type": "code",
   "execution_count": null,
   "id": "1e9b29e4",
   "metadata": {},
   "outputs": [],
   "source": [
    "import os\n",
    "from elasticsearch8 import Elasticsearch\n",
    "import pandas as pd\n",
    "import string\n",
    "from collections import Counter\n",
    "import matplotlib.pyplot as plt\n",
    "from wordcloud import WordCloud, STOPWORDS\n",
    "from nltk.corpus import stopwords\n",
    "from nltk import pos_tag\n",
    "import nltk\n",
    "import numpy as np\n",
    "from PIL import Image\n",
    "import ipywidgets as widgets\n",
    "from IPython.display import display, clear_output\n",
    "import datetime"
   ]
  },
  {
   "cell_type": "code",
   "execution_count": null,
   "id": "7d794695",
   "metadata": {},
   "outputs": [],
   "source": [
    "# 连接 ES\n",
    "es = Elasticsearch(\n",
    "    [\"https://elasticsearch-master.elastic.svc.cluster.local:9200\"],\n",
    "    basic_auth=(\"elastic\", \"elastic\"),\n",
    "    verify_certs=False\n",
    ")\n",
    "assert es.ping(), \"❌ 无法 ping 通 ES\"\n",
    "print(\"✅ ES 连接成功\")"
   ]
  },
  {
   "cell_type": "code",
   "execution_count": null,
   "id": "f7c62f8d",
   "metadata": {
    "lines_to_next_cell": 2
   },
   "outputs": [],
   "source": [
    "# 设置 NLTK 本地数据路径和下载资源\n",
    "local_nltk_data = os.path.expanduser(\"nltk_data\")\n",
    "os.makedirs(local_nltk_data, exist_ok=True)\n",
    "nltk.data.path.append(local_nltk_data)\n",
    "nltk.download('stopwords', download_dir=local_nltk_data)\n",
    "nltk.download('averaged_perceptron_tagger', download_dir=local_nltk_data)\n",
    "nltk.download('averaged_perceptron_tagger_eng', download_dir=local_nltk_data)"
   ]
  },
  {
   "cell_type": "code",
   "execution_count": null,
   "id": "95a0b255",
   "metadata": {},
   "outputs": [],
   "source": [
    "# 自定义停用词（跟你之前定义一致）\n",
    "custom_stopwords = {\n",
    "    \"election\", \"elections\", \"federal\", \"government\", \"campaign\", \"seat\", \"minister\",\n",
    "    \"votes\",\"vote\",\"voters\",\"voting\", \"elect\", \"electorate\", \"political\", \"candidate\", \"candidates\",\n",
    "    \"https\", \"http\", \"www\", \"com\", \"co\", \"amp\", \"rt\", \"via\", \"httpswww\",\n",
    "    \"australia\", \"australian\", \"canberra\", \"sydney\", \"melbourne\", \"nsw\", \"vic\", \"qld\",\n",
    "    \"said\", \"says\", \"get\", \"like\", \"think\", \"know\", \"also\", \"make\", \"still\",\n",
    "    \"one\", \"new\", \"day\", \"today\", \"year\", \"years\", \"people\"\n",
    "}\n",
    "nltk_stopwords = set(stopwords.words('english'))\n",
    "combined_stopwords = nltk_stopwords.union(STOPWORDS).union(custom_stopwords)"
   ]
  },
  {
   "cell_type": "code",
   "execution_count": null,
   "id": "07c33042",
   "metadata": {},
   "outputs": [],
   "source": [
    "# 加载蒙版图片路径（请确认路径正确）\n",
    "mask_image = np.array(Image.open(\"work/repo/frontend/visualization_wordcloud/australia_mask1.png\"))"
   ]
  },
  {
   "cell_type": "code",
   "execution_count": null,
   "id": "a592eee9",
   "metadata": {},
   "outputs": [],
   "source": [
    "# === ES 查询函数，根据时间范围拉取 content 字段 ===\n",
    "def fetch_content_by_date(start_date, end_date, index_name=\"election_v2\"):\n",
    "    query = {\n",
    "        \"size\": 10000,\n",
    "        \"query\": {\n",
    "            \"range\": {\n",
    "                \"created_at\": {\n",
    "                    \"gte\": start_date.strftime('%Y-%m-%d'),\n",
    "                    \"lte\": end_date.strftime('%Y-%m-%d')\n",
    "                }\n",
    "            }\n",
    "        },\n",
    "        \"_source\": [\"content\"]\n",
    "    }\n",
    "    res = es.search(index=index_name, body=query)\n",
    "    contents = []\n",
    "    for hit in res[\"hits\"][\"hits\"]:\n",
    "        if 'content' in hit[\"_source\"]:\n",
    "            contents.append(hit[\"_source\"][\"content\"])\n",
    "    return contents"
   ]
  },
  {
   "cell_type": "code",
   "execution_count": null,
   "id": "7c08af75",
   "metadata": {},
   "outputs": [],
   "source": [
    "# === 生成词云函数 ===\n",
    "def generate_wordcloud(texts):\n",
    "    all_text = \" \".join(texts).lower()\n",
    "    all_text = all_text.translate(str.maketrans(\"\", \"\", string.punctuation))\n",
    "    tokens = all_text.split()\n",
    "    tagged = pos_tag(tokens)\n",
    "    \n",
    "    nouns = [\n",
    "        word for word, tag in tagged\n",
    "        if tag.startswith('NN') and word not in combined_stopwords and word.isalpha()\n",
    "    ]\n",
    "    word_freq = Counter(nouns)\n",
    "    \n",
    "    wc = WordCloud(\n",
    "        width=800,\n",
    "        height=400,\n",
    "        background_color='white',\n",
    "        max_words=300,\n",
    "        stopwords=combined_stopwords,\n",
    "        contour_width=3,\n",
    "        contour_color='skyblue',\n",
    "        colormap='plasma',\n",
    "        prefer_horizontal=0.9,\n",
    "        mask=mask_image\n",
    "    )\n",
    "    wc.generate_from_frequencies(word_freq)\n",
    "    \n",
    "    return wc"
   ]
  },
  {
   "cell_type": "code",
   "execution_count": null,
   "id": "1a993e32",
   "metadata": {},
   "outputs": [],
   "source": [
    "# === UI 控件定义 ===\n",
    "facebook_blue = \"#3b5998\"\n",
    "border_style = f'2px solid {facebook_blue}'"
   ]
  },
  {
   "cell_type": "code",
   "execution_count": null,
   "id": "97200f2c",
   "metadata": {},
   "outputs": [],
   "source": [
    "before_button = widgets.Button(\n",
    "    description=\"Before election\",\n",
    "    layout=widgets.Layout(width=\"150px\", border=border_style),\n",
    "    style={'button_color': 'white', 'font_weight': 'bold'}\n",
    ")"
   ]
  },
  {
   "cell_type": "code",
   "execution_count": null,
   "id": "40f65246",
   "metadata": {
    "lines_to_next_cell": 1
   },
   "outputs": [],
   "source": [
    "after_button = widgets.Button(\n",
    "    description=\"After election\",\n",
    "    layout=widgets.Layout(width=\"150px\", border=border_style),\n",
    "    style={'button_color': 'white', 'font_weight': 'bold'}\n",
    ")"
   ]
  },
  {
   "cell_type": "code",
   "execution_count": null,
   "id": "0618440f",
   "metadata": {
    "lines_to_next_cell": 1
   },
   "outputs": [],
   "source": [
    "# 高亮选中按钮\n",
    "def select_button(selected, unselected):\n",
    "    selected.style.button_color = facebook_blue\n",
    "    selected.style.font_weight = 'bold'\n",
    "    selected.layout.border = f'2px solid {facebook_blue}'\n",
    "    unselected.style.button_color = 'white'\n",
    "    unselected.style.font_weight = 'normal'\n",
    "    unselected.layout.border = '2px solid white'"
   ]
  },
  {
   "cell_type": "code",
   "execution_count": null,
   "id": "054736ce",
   "metadata": {},
   "outputs": [],
   "source": [
    "start_date_picker = widgets.DatePicker(description='Start Date', value=datetime.date(2022, 4, 1))\n",
    "end_date_picker = widgets.DatePicker(description='End Date', value=datetime.date(2022, 5, 31))"
   ]
  },
  {
   "cell_type": "code",
   "execution_count": null,
   "id": "fb793687",
   "metadata": {},
   "outputs": [],
   "source": [
    "top_controls = widgets.HBox([before_button, after_button])\n",
    "date_controls = widgets.HBox([start_date_picker, end_date_picker])"
   ]
  },
  {
   "cell_type": "code",
   "execution_count": null,
   "id": "25426065",
   "metadata": {
    "lines_to_next_cell": 1
   },
   "outputs": [],
   "source": [
    "# 图表输出区域\n",
    "output = widgets.Output()"
   ]
  },
  {
   "cell_type": "code",
   "execution_count": null,
   "id": "8a724b6b",
   "metadata": {},
   "outputs": [],
   "source": [
    "# === 更新词云显示函数 ===\n",
    "def update_wordcloud(start_date, end_date):\n",
    "    with output:\n",
    "        clear_output(wait=True)\n",
    "        contents = fetch_content_by_date(start_date, end_date)\n",
    "        if not contents:\n",
    "            print(f\"⚠️ No content found for range {start_date} to {end_date}\")\n",
    "            return\n",
    "        wc = generate_wordcloud(contents)\n",
    "        plt.figure(figsize=(12, 10))\n",
    "        plt.imshow(wc, interpolation='bilinear')\n",
    "        plt.axis(\"off\")\n",
    "        plt.title(f\"Word Cloud from {start_date} to {end_date}\", fontsize=20, weight='bold', color='midnightblue')\n",
    "        plt.tight_layout(pad=0)\n",
    "        plt.show()"
   ]
  },
  {
   "cell_type": "code",
   "execution_count": null,
   "id": "871a2e88",
   "metadata": {
    "lines_to_next_cell": 1
   },
   "outputs": [],
   "source": [
    "# === 事件绑定函数 ===\n",
    "def on_before_click(b):\n",
    "    select_button(before_button, after_button)\n",
    "    # 设置日期控件范围匹配“Before election”\n",
    "    start_date_picker.value = datetime.date(2022, 3, 1)\n",
    "    end_date_picker.value = datetime.date(2022, 5, 20)\n",
    "    update_wordcloud(start_date_picker.value, end_date_picker.value)"
   ]
  },
  {
   "cell_type": "code",
   "execution_count": null,
   "id": "d9b33c8d",
   "metadata": {},
   "outputs": [],
   "source": [
    "def on_after_click(b):\n",
    "    select_button(after_button, before_button)\n",
    "    start_date_picker.value = datetime.date(2022, 5, 21)\n",
    "    end_date_picker.value = datetime.date(2022, 7, 15)\n",
    "    update_wordcloud(start_date_picker.value, end_date_picker.value)"
   ]
  },
  {
   "cell_type": "code",
   "execution_count": null,
   "id": "8414ceaa",
   "metadata": {},
   "outputs": [],
   "source": [
    "def on_date_change(change):\n",
    "    # 当用户手动更改日期时，取消按钮高亮（因为不一定对应“Before”或“After”）\n",
    "    before_button.style.button_color = 'white'\n",
    "    before_button.style.font_weight = 'normal'\n",
    "    before_button.layout.border = '2px solid white'\n",
    "    after_button.style.button_color = 'white'\n",
    "    after_button.style.font_weight = 'normal'\n",
    "    after_button.layout.border = '2px solid white'\n",
    "    \n",
    "    # 只在日期选择器值有效时更新词云\n",
    "    if start_date_picker.value and end_date_picker.value and start_date_picker.value <= end_date_picker.value:\n",
    "        update_wordcloud(start_date_picker.value, end_date_picker.value)"
   ]
  },
  {
   "cell_type": "code",
   "execution_count": null,
   "id": "939b161d",
   "metadata": {
    "lines_to_next_cell": 2
   },
   "outputs": [],
   "source": [
    "# 绑定事件\n",
    "before_button.on_click(on_before_click)\n",
    "after_button.on_click(on_after_click)\n",
    "start_date_picker.observe(on_date_change, names='value')\n",
    "end_date_picker.observe(on_date_change, names='value')"
   ]
  },
  {
   "cell_type": "code",
   "execution_count": null,
   "id": "7c13b663",
   "metadata": {},
   "outputs": [],
   "source": [
    "# 初始默认显示（Before election）\n",
    "select_button(before_button, after_button)\n",
    "update_wordcloud(datetime.date(2022, 3, 1), datetime.date(2022, 5, 20))"
   ]
  },
  {
   "cell_type": "code",
   "execution_count": null,
   "id": "73bbf36b",
   "metadata": {},
   "outputs": [],
   "source": [
    "# 显示界面\n",
    "display(widgets.VBox([top_controls, date_controls, output]))"
   ]
  }
 ],
 "metadata": {
  "jupytext": {
   "cell_metadata_filter": "-all",
   "main_language": "python",
   "notebook_metadata_filter": "-all"
  }
 },
 "nbformat": 4,
 "nbformat_minor": 5
}
