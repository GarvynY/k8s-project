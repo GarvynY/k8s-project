{
 "cells": [
  {
   "cell_type": "code",
   "execution_count": null,
   "id": "580da029",
   "metadata": {},
   "outputs": [],
   "source": [
    "import os\n",
    "import json\n",
    "import requests\n",
    "import pandas as pd\n",
    "import numpy as np\n",
    "import folium\n",
    "from elasticsearch8 import Elasticsearch\n",
    "from dateutil import parser\n",
    "import datetime\n",
    "import ipywidgets as widgets\n",
    "from IPython.display import display, clear_output"
   ]
  },
  {
   "cell_type": "code",
   "execution_count": null,
   "id": "45e04182",
   "metadata": {},
   "outputs": [],
   "source": [
    "# 1. Connect to Elasticsearch\n",
    "es = Elasticsearch(\n",
    "    [\"https://elasticsearch-master.elastic.svc.cluster.local:9200\"],\n",
    "    basic_auth=(\"elastic\", \"elastic\"),\n",
    "    verify_certs=False,\n",
    "    headers={\n",
    "        \"Accept\": \"application/vnd.elasticsearch+json;compatible-with=8\",\n",
    "        \"Content-Type\": \"application/vnd.elasticsearch+json;compatible-with=8\"\n",
    "    }\n",
    ")\n",
    "assert es.ping(), \"❌ Failed to connect to Elasticsearch\"\n",
    "print(\"✅ Successfully connected to Elasticsearch\")"
   ]
  },
  {
   "cell_type": "code",
   "execution_count": null,
   "id": "c95e1018",
   "metadata": {
    "lines_to_next_cell": 1
   },
   "outputs": [],
   "source": [
    "# 2. Retrieve data from Elasticsearch\n",
    "response = es.search(\n",
    "    index=\"election_analysis\",\n",
    "    size=5000,\n",
    "    _source=[\"created_at\", \"geolocation\", \"sentiment_score\", \"location\"],\n",
    "    query={\"bool\": {\"must\": [\n",
    "        {\"exists\": {\"field\": \"created_at\"}},\n",
    "        {\"exists\": {\"field\": \"geolocation\"}},\n",
    "        {\"exists\": {\"field\": \"sentiment_score\"}},\n",
    "        {\"exists\": {\"field\": \"location\"}}\n",
    "    ]}}\n",
    ")\n",
    "records = [hit[\"_source\"] for hit in response[\"hits\"][\"hits\"]]\n",
    "df = pd.DataFrame(records)\n",
    "df[\"created_at\"] = df[\"created_at\"].apply(parser.isoparse)"
   ]
  },
  {
   "cell_type": "code",
   "execution_count": null,
   "id": "ef4224f8",
   "metadata": {
    "lines_to_next_cell": 1
   },
   "outputs": [],
   "source": [
    "def parse_geolocation(geo):\n",
    "    \"\"\"Extract latitude and longitude from geolocation field.\"\"\"\n",
    "    if isinstance(geo, dict) and \"lat\" in geo and \"lon\" in geo:\n",
    "        return geo[\"lat\"], geo[\"lon\"]\n",
    "    if isinstance(geo, str) and \",\" in geo:\n",
    "        a, b = geo.split(\",\", 1)\n",
    "        return float(a), float(b)\n",
    "    return None, None"
   ]
  },
  {
   "cell_type": "code",
   "execution_count": null,
   "id": "94645215",
   "metadata": {},
   "outputs": [],
   "source": [
    "df[[\"lat\", \"lon\"]] = df[\"geolocation\"].apply(lambda g: pd.Series(parse_geolocation(g)))\n",
    "df = df.dropna(subset=[\"created_at\", \"lat\", \"lon\", \"sentiment_score\", \"location\"])"
   ]
  },
  {
   "cell_type": "code",
   "execution_count": null,
   "id": "1989d03e",
   "metadata": {
    "lines_to_next_cell": 1
   },
   "outputs": [],
   "source": [
    "city_to_state = {\n",
    "    'Sydney': 'New South Wales', 'Melbourne': 'Victoria',\n",
    "    'Brisbane': 'Queensland', 'Perth': 'Western Australia',\n",
    "    'Adelaide': 'South Australia', 'Hobart': 'Tasmania',\n",
    "    'Darwin': 'Northern Territory', 'Canberra': 'Australian Capital Territory'\n",
    "}\n",
    "df[\"state\"] = df[\"location\"].map(city_to_state)"
   ]
  },
  {
   "cell_type": "code",
   "execution_count": null,
   "id": "bc1d0dc1",
   "metadata": {
    "lines_to_next_cell": 1
   },
   "outputs": [],
   "source": [
    "def prepare_state_counts(subdf):\n",
    "    \"\"\"Aggregate state post counts for choropleth.\"\"\"\n",
    "    state_counts = (\n",
    "        subdf[\"state\"]\n",
    "            .dropna()\n",
    "            .value_counts()\n",
    "            .rename_axis(\"state\")\n",
    "            .reset_index(name=\"count\")\n",
    "    )\n",
    "    return state_counts"
   ]
  },
  {
   "cell_type": "code",
   "execution_count": null,
   "id": "5c0fc06a",
   "metadata": {},
   "outputs": [],
   "source": [
    "all_state_counts = prepare_state_counts(df)\n",
    "global_max = all_state_counts[\"count\"].max()\n",
    "color_bins = list(np.linspace(0, global_max, 8))"
   ]
  },
  {
   "cell_type": "code",
   "execution_count": null,
   "id": "2ce5a9ad",
   "metadata": {},
   "outputs": [],
   "source": [
    "# 3. Load Australia state GeoJSON for map visualization (download if not found locally)\n",
    "geojson_filename = \"australian-states.geojson\"\n",
    "geo_url = \"https://raw.githubusercontent.com/ferocia/australia-geojsons/master/outputs/australian-states.geojson\""
   ]
  },
  {
   "cell_type": "code",
   "execution_count": null,
   "id": "6249e77d",
   "metadata": {},
   "outputs": [],
   "source": [
    "if not os.path.exists(geojson_filename):\n",
    "    print(\"GeoJSON file not found locally. Downloading from GitHub...\")\n",
    "    r = requests.get(geo_url)\n",
    "    r.raise_for_status()\n",
    "    with open(geojson_filename, \"wb\") as f:\n",
    "        f.write(r.content)\n",
    "else:\n",
    "    print(\"GeoJSON file found locally. Using the local file.\")"
   ]
  },
  {
   "cell_type": "code",
   "execution_count": null,
   "id": "6d097f67",
   "metadata": {},
   "outputs": [],
   "source": [
    "with open(geojson_filename, \"r\", encoding=\"utf-8\") as f:\n",
    "    australia_geojson = json.load(f)"
   ]
  },
  {
   "cell_type": "code",
   "execution_count": null,
   "id": "130babc8",
   "metadata": {},
   "outputs": [],
   "source": [
    "# 4. Interactive controls and mapping logic\n",
    "facebook_blue = \"#3b5998\"\n",
    "border_style = f'2px solid {facebook_blue}'"
   ]
  },
  {
   "cell_type": "code",
   "execution_count": null,
   "id": "be87294f",
   "metadata": {
    "lines_to_next_cell": 1
   },
   "outputs": [],
   "source": [
    "before_button = widgets.Button(\n",
    "    description=\"Before Election\",\n",
    "    layout=widgets.Layout(width=\"150px\", border=border_style),\n",
    "    style={'button_color': 'white'}\n",
    ")\n",
    "after_button = widgets.Button(\n",
    "    description=\"After Election\",\n",
    "    layout=widgets.Layout(width=\"150px\", border=border_style),\n",
    "    style={'button_color': 'white'}\n",
    ")"
   ]
  },
  {
   "cell_type": "code",
   "execution_count": null,
   "id": "091f7942",
   "metadata": {
    "lines_to_next_cell": 1
   },
   "outputs": [],
   "source": [
    "def highlight_button(selected, unselected):\n",
    "    selected.style.button_color = facebook_blue\n",
    "    selected.style.font_color = 'white'\n",
    "    unselected.style.button_color = 'white'\n",
    "    unselected.style.font_color = facebook_blue"
   ]
  },
  {
   "cell_type": "code",
   "execution_count": null,
   "id": "f3583049",
   "metadata": {},
   "outputs": [],
   "source": [
    "chk_choropleth = widgets.Checkbox(value=True, description=\"Show Choropleth\")"
   ]
  },
  {
   "cell_type": "code",
   "execution_count": null,
   "id": "938a82e6",
   "metadata": {},
   "outputs": [],
   "source": [
    "all_dates = df[\"created_at\"].dt.date.sort_values()\n",
    "min_date = all_dates.min()\n",
    "max_date = all_dates.max()"
   ]
  },
  {
   "cell_type": "code",
   "execution_count": null,
   "id": "ec91e2e0",
   "metadata": {},
   "outputs": [],
   "source": [
    "start_date_picker = widgets.DatePicker(\n",
    "    description='Start Date',\n",
    "    value=min_date,\n",
    "    disabled=False,\n",
    "    min=min_date,\n",
    "    max=max_date\n",
    ")\n",
    "end_date_picker = widgets.DatePicker(\n",
    "    description='End Date',\n",
    "    value=max_date,\n",
    "    disabled=False,\n",
    "    min=min_date,\n",
    "    max=max_date\n",
    ")"
   ]
  },
  {
   "cell_type": "code",
   "execution_count": null,
   "id": "bf474b8d",
   "metadata": {
    "lines_to_next_cell": 1
   },
   "outputs": [],
   "source": [
    "output = widgets.Output()\n",
    "top_controls = widgets.HBox([before_button, after_button])\n",
    "option_controls = widgets.HBox([chk_choropleth])\n",
    "date_controls = widgets.HBox([start_date_picker, end_date_picker])\n",
    "ui = widgets.VBox([top_controls, date_controls, option_controls, output])\n",
    "display(ui)"
   ]
  },
  {
   "cell_type": "code",
   "execution_count": null,
   "id": "19d29dc8",
   "metadata": {
    "lines_to_next_cell": 1
   },
   "outputs": [],
   "source": [
    "def plot_map(start_date, end_date, show_choropleth=True):\n",
    "    \"\"\"Render folium map for the selected date range and options.\"\"\"\n",
    "    df_range = df[\n",
    "        (df[\"created_at\"].dt.date >= start_date) &\n",
    "        (df[\"created_at\"].dt.date <= end_date)\n",
    "    ]\n",
    "    state_counts = prepare_state_counts(df_range)\n",
    "    print(f\"Selected Range: {start_date} ~ {end_date}\")\n",
    "    print(\"Number of posts in range:\", len(df_range))\n",
    "    if len(df_range) == 0 or len(state_counts) == 0:\n",
    "        print(\"⚠️ No data available for the selected range. Please choose another range.\")\n",
    "        return\n",
    "    bounds = [[-44, 112], [-10, 154]]\n",
    "    m = folium.Map(\n",
    "        location=[-25.27, 133.77], tiles=\"CartoDB positron\",\n",
    "        zoom_start=4, min_zoom=4, max_zoom=6, max_bounds=True\n",
    "    )\n",
    "    m.fit_bounds(bounds)\n",
    "    m.options['maxBounds'] = bounds; m.options['maxBoundsViscosity'] = 1.0\n",
    "    if show_choropleth:\n",
    "        folium.Choropleth(\n",
    "            geo_data=australia_geojson,\n",
    "            data=state_counts,\n",
    "            columns=[\"state\", \"count\"],\n",
    "            key_on=\"feature.properties.STATE_NAME\",\n",
    "            fill_color=\"Blues\",\n",
    "            threshold_scale=color_bins,\n",
    "            fill_opacity=0.6,\n",
    "            line_opacity=0.3,\n",
    "            legend_name=\"Number of Posts\"\n",
    "        ).add_to(m)\n",
    "        folium.GeoJson(\n",
    "            australia_geojson,\n",
    "            style_function=lambda f: {\"color\": \"#333\", \"weight\": 0.5, \"fillOpacity\": 0}\n",
    "        ).add_to(m)\n",
    "    legend = \"\"\"\n",
    "    <div style=\"\n",
    "      position:fixed;top:100px;right:20px;\n",
    "      width:20px;height:250px;\n",
    "      background:linear-gradient(to top,\n",
    "        #deebf7 0%,#9ecae1 25%,#6baed6 50%,#3182bd 75%,#08519c 100%);\n",
    "      border:1px solid #888;z-index:9999;\n",
    "    \"></div>\n",
    "    <div style=\"position:fixed;top:80px;right:45px;font-size:12px;z-index:9999;\">High</div>\n",
    "    <div style=\"position:fixed;top:360px;right:45px;font-size:12px;z-index:9999;\">Low</div>\n",
    "    \"\"\"\n",
    "    m.get_root().html.add_child(folium.Element(legend))\n",
    "    display(m)"
   ]
  },
  {
   "cell_type": "code",
   "execution_count": null,
   "id": "ac0439df",
   "metadata": {
    "lines_to_next_cell": 1
   },
   "outputs": [],
   "source": [
    "def on_before_click(b):\n",
    "    \"\"\"Switch to the default 'before election' period and update the map.\"\"\"\n",
    "    highlight_button(before_button, after_button)\n",
    "    # Change these dates according to your actual election cut-off!\n",
    "    start_date_picker.value = min_date\n",
    "    end_date_picker.value = datetime.date(2025, 5, 2)\n",
    "    refresh_map()\n",
    "def on_after_click(b):\n",
    "    \"\"\"Switch to the default 'after election' period and update the map.\"\"\"\n",
    "    highlight_button(after_button, before_button)\n",
    "    start_date_picker.value = datetime.date(2025, 5, 3)\n",
    "    end_date_picker.value = max_date\n",
    "    refresh_map()"
   ]
  },
  {
   "cell_type": "code",
   "execution_count": null,
   "id": "59f4f790",
   "metadata": {
    "lines_to_next_cell": 1
   },
   "outputs": [],
   "source": [
    "def refresh_map(*args):\n",
    "    \"\"\"Update the map whenever date range or options change.\"\"\"\n",
    "    with output:\n",
    "        clear_output(wait=True)\n",
    "        s, e = start_date_picker.value, end_date_picker.value\n",
    "        if s is None or e is None or s > e:\n",
    "            print(\"Please select a valid date range!\")\n",
    "            return\n",
    "        plot_map(s, e, show_choropleth=chk_choropleth.value)"
   ]
  },
  {
   "cell_type": "code",
   "execution_count": null,
   "id": "c3ef9dc3",
   "metadata": {},
   "outputs": [],
   "source": [
    "# Bind events to controls\n",
    "start_date_picker.observe(refresh_map, names='value')\n",
    "end_date_picker.observe(refresh_map, names='value')\n",
    "chk_choropleth.observe(refresh_map, names='value')\n",
    "before_button.on_click(on_before_click)\n",
    "after_button.on_click(on_after_click)"
   ]
  },
  {
   "cell_type": "code",
   "execution_count": null,
   "id": "0189b697",
   "metadata": {
    "lines_to_next_cell": 2
   },
   "outputs": [],
   "source": [
    "# Default highlight and initial map display\n",
    "highlight_button(before_button, after_button)\n",
    "refresh_map()"
   ]
  }
 ],
 "metadata": {
  "jupytext": {
   "cell_metadata_filter": "-all",
   "main_language": "python",
   "notebook_metadata_filter": "-all"
  }
 },
 "nbformat": 4,
 "nbformat_minor": 5
}
