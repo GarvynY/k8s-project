{
 "cells": [
  {
   "cell_type": "code",
   "execution_count": null,
   "id": "1467dced",
   "metadata": {},
   "outputs": [],
   "source": [
    "import os\n",
    "import json\n",
    "import string\n",
    "import datetime\n",
    "from collections import Counter\n",
    "import warnings"
   ]
  },
  {
   "cell_type": "code",
   "execution_count": null,
   "id": "77eae250",
   "metadata": {},
   "outputs": [],
   "source": [
    "import urllib3\n",
    "urllib3.disable_warnings(urllib3.exceptions.InsecureRequestWarning)"
   ]
  },
  {
   "cell_type": "code",
   "execution_count": null,
   "id": "4e0159a8",
   "metadata": {},
   "outputs": [],
   "source": [
    "import requests\n",
    "import pandas as pd\n",
    "import numpy as np\n",
    "import matplotlib.pyplot as plt\n",
    "import seaborn as sns\n",
    "from wordcloud import WordCloud, STOPWORDS\n",
    "from PIL import Image"
   ]
  },
  {
   "cell_type": "code",
   "execution_count": null,
   "id": "c8631abb",
   "metadata": {},
   "outputs": [],
   "source": [
    "import nltk\n",
    "from nltk.corpus import stopwords\n",
    "from nltk import pos_tag"
   ]
  },
  {
   "cell_type": "code",
   "execution_count": null,
   "id": "e3efe696",
   "metadata": {},
   "outputs": [],
   "source": [
    "import ipywidgets as widgets\n",
    "from IPython.display import display, clear_output"
   ]
  },
  {
   "cell_type": "code",
   "execution_count": null,
   "id": "46a8d948",
   "metadata": {},
   "outputs": [],
   "source": [
    "import folium\n",
    "from folium.plugins import HeatMap"
   ]
  },
  {
   "cell_type": "code",
   "execution_count": null,
   "id": "537d24ac",
   "metadata": {},
   "outputs": [],
   "source": [
    "from elasticsearch8 import Elasticsearch"
   ]
  },
  {
   "cell_type": "code",
   "execution_count": null,
   "id": "dc0b24d4",
   "metadata": {},
   "outputs": [],
   "source": [
    "# suppress insecure TLS warning from Elasticsearch\n",
    "warnings.filterwarnings(\"ignore\", message=\".*verify_certs=False is insecure.*\")"
   ]
  },
  {
   "cell_type": "code",
   "execution_count": null,
   "id": "39c6cf9e",
   "metadata": {},
   "outputs": [],
   "source": [
    "# — ensure GeoJSON exists, otherwise download it —\n",
    "GEOJSON_PATH = \"/home/jovyan/work/repo/frontend/source_codes/australia_states.geojson\"\n",
    "GEOJSON_URL = (\n",
    "    \"https://raw.githubusercontent.com/\"\n",
    "    \"codeforgermany/click_that_hood/\"\n",
    "    \"main/public/data/australia.geojson\"\n",
    ")\n",
    "if not os.path.exists(GEOJSON_PATH):\n",
    "    print(f\"GeoJSON not found at {GEOJSON_PATH}, downloading...\")\n",
    "    resp = requests.get(GEOJSON_URL)\n",
    "    resp.raise_for_status()\n",
    "    with open(GEOJSON_PATH, \"wb\") as f:\n",
    "        f.write(resp.content)\n",
    "    print(\"GeoJSON download complete.\")\n",
    "with open(GEOJSON_PATH, \"r\", encoding=\"utf-8\") as f:\n",
    "    australia = json.load(f)"
   ]
  },
  {
   "cell_type": "code",
   "execution_count": null,
   "id": "7d0563f7",
   "metadata": {},
   "outputs": [],
   "source": [
    "# — NLTK stopwords (fixed absolute path) —\n",
    "NLTK_DATA_PATH = \"/home/jovyan/work/repo/frontend/source_codes/nltk_data\"\n",
    "nltk.data.path.append(NLTK_DATA_PATH)"
   ]
  },
  {
   "cell_type": "code",
   "execution_count": null,
   "id": "d3a44fd9",
   "metadata": {},
   "outputs": [],
   "source": [
    "custom_stopwords = {\n",
    "    \"election\", \"government\", \"campaign\", \"vote\", \"voting\",\n",
    "    \"https\", \"http\", \"www\", \"com\", \"co\", \"amp\", \"rt\", \"via\",\n",
    "    \"australia\", \"australian\", \"sydney\", \"melbourne\", \"nsw\", \"vic\", \"qld\",\n",
    "    \"said\", \"says\", \"like\", \"think\", \"know\", \"also\", \"one\", \"new\", \"today\",\n",
    "    \"people\"\n",
    "}\n",
    "nltk_sw = set(stopwords.words('english'))\n",
    "combined_stopwords = nltk_sw.union(STOPWORDS).union(custom_stopwords)"
   ]
  },
  {
   "cell_type": "code",
   "execution_count": null,
   "id": "c403e573",
   "metadata": {},
   "outputs": [],
   "source": [
    "# — load mask image for word cloud —\n",
    "MASK_PATH = \"/home/jovyan/work/repo/frontend/source_codes/australia_mask1.png\"\n",
    "if not os.path.exists(MASK_PATH):\n",
    "    raise FileNotFoundError(f\"Mask image not found: {MASK_PATH}\")\n",
    "mask_image = np.array(Image.open(MASK_PATH))"
   ]
  },
  {
   "cell_type": "code",
   "execution_count": null,
   "id": "844f8bc0",
   "metadata": {},
   "outputs": [],
   "source": [
    "# — initialize Elasticsearch client —\n",
    "es = Elasticsearch(\n",
    "    [\"https://elasticsearch-master.elastic.svc.cluster.local:9200\"],\n",
    "    basic_auth=(\"elastic\", \"elastic\"),\n",
    "    verify_certs=False\n",
    ")\n",
    "assert es.ping(), \"Failed to connect to Elasticsearch\"\n",
    "print(\"Elasticsearch connection successful\")"
   ]
  },
  {
   "cell_type": "code",
   "execution_count": null,
   "id": "8bff48a1",
   "metadata": {},
   "outputs": [],
   "source": [
    "# — city → (lat, lon) mapping —\n",
    "city_coords = {\n",
    "    'Sydney': (-33.8688, 151.2093),\n",
    "    'Melbourne': (-37.8136, 144.9631),\n",
    "    'Brisbane': (-27.4698, 153.0251),\n",
    "    'Perth': (-31.9505, 115.8605),\n",
    "    'Adelaide': (-34.9285, 138.6007),\n",
    "    'Hobart': (-42.8821, 147.3272),\n",
    "    'Darwin': (-12.4634, 130.8456),\n",
    "    'Canberra': (-35.2809, 149.1300)\n",
    "}"
   ]
  },
  {
   "cell_type": "markdown",
   "id": "9150b8ed",
   "metadata": {
    "lines_to_next_cell": 2
   },
   "source": [
    "...（后续函数保持不变）..."
   ]
  }
 ],
 "metadata": {
  "jupytext": {
   "cell_metadata_filter": "-all",
   "main_language": "python",
   "notebook_metadata_filter": "-all"
  }
 },
 "nbformat": 4,
 "nbformat_minor": 5
}
