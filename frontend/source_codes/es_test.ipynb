{
 "cells": [
  {
   "cell_type": "code",
   "execution_count": null,
   "id": "29a1d048",
   "metadata": {},
   "outputs": [],
   "source": [
    "from elasticsearch8 import Elasticsearch"
   ]
  },
  {
   "cell_type": "code",
   "execution_count": null,
   "id": "28167c17",
   "metadata": {},
   "outputs": [],
   "source": [
    "es = Elasticsearch(\n",
    "    [\"https://elasticsearch-master.elastic.svc.cluster.local:9200\"],\n",
    "    basic_auth=(\"elastic\", \"elastic\"),\n",
    "    verify_certs=False\n",
    ")"
   ]
  },
  {
   "cell_type": "code",
   "execution_count": null,
   "id": "6b68478f",
   "metadata": {},
   "outputs": [],
   "source": [
    "# 集群健康检查\n",
    "health = es.cluster.health()\n",
    "print(\"Cluster health:\", health[\"status\"])"
   ]
  },
  {
   "cell_type": "code",
   "execution_count": null,
   "id": "bc2a7713",
   "metadata": {},
   "outputs": [],
   "source": [
    "# 列出所有索引（用关键字参数）\n",
    "alias_map = es.indices.get_alias(index=\"*\")\n",
    "indices = list(alias_map.keys())\n",
    "print(\"Indices:\", indices)"
   ]
  }
 ],
 "metadata": {
  "jupytext": {
   "cell_metadata_filter": "-all",
   "main_language": "python",
   "notebook_metadata_filter": "-all"
  }
 },
 "nbformat": 4,
 "nbformat_minor": 5
}
