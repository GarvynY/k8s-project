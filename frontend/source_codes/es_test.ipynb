from elasticsearch8 import Elasticsearch

es = Elasticsearch(
    ["https://elasticsearch-master.elastic.svc.cluster.local:9200"],
    basic_auth=("elastic", "elastic"),
    verify_certs=False
)

# 集群健康检查
health = es.cluster.health()
print("Cluster health:", health["status"])

# 列出所有索引（用关键字参数）
alias_map = es.indices.get_alias(index="*")
indices = list(alias_map.keys())
print("Indices:", indices)
