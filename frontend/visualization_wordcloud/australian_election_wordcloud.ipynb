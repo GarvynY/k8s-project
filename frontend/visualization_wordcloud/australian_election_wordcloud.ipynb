{
 "cells": [
  {
   "cell_type": "code",
   "execution_count": null,
   "id": "83097a6b",
   "metadata": {},
   "outputs": [],
   "source": [
    "import os\n",
    "import pandas as pd\n",
    "import string\n",
    "from collections import Counter\n",
    "import matplotlib.pyplot as plt\n",
    "from wordcloud import WordCloud, STOPWORDS\n",
    "from nltk.corpus import stopwords\n",
    "from nltk import pos_tag\n",
    "import nltk\n",
    "import numpy as np\n",
    "from PIL import Image"
   ]
  },
  {
   "cell_type": "code",
   "execution_count": null,
   "id": "bc742e1f",
   "metadata": {},
   "outputs": [],
   "source": [
    "# === 设置 NLTK 本地路径和依赖下载 ===\n",
    "local_nltk_data = os.path.join(os.path.dirname(os.path.abspath(__file__)), \"nltk_data\")\n",
    "os.makedirs(local_nltk_data, exist_ok=True)\n",
    "nltk.data.path.append(local_nltk_data)\n",
    "\n",
    "# 下载依赖\n",
    "nltk.download('stopwords', download_dir=local_nltk_data, force=True)\n",
    "nltk.download('averaged_perceptron_tagger', download_dir=local_nltk_data, force=True)\n",
    "nltk.download('averaged_perceptron_tagger_eng', download_dir=local_nltk_data, force=True)"
   ]
  },
  {
   "cell_type": "code",
   "execution_count": null,
   "id": "40eca363",
   "metadata": {},
   "outputs": [],
   "source": [
    "# === 加载文本数据 ===\n",
    "df = pd.read_csv(\"aus_election_statuses30days.csv\")\n",
    "texts = df[\"content\"].dropna().astype(str)"
   ]
  },
  {
   "cell_type": "code",
   "execution_count": null,
   "id": "32d3a2f0",
   "metadata": {},
   "outputs": [],
   "source": [
    "# === 文本清洗与预处理 ===\n",
    "all_text = \" \".join(texts).lower()\n",
    "all_text = all_text.translate(str.maketrans(\"\", \"\", string.punctuation))\n",
    "tokens = all_text.split()"
   ]
  },
  {
   "cell_type": "code",
   "execution_count": null,
   "id": "55c80b84",
   "metadata": {},
   "outputs": [],
   "source": [
    "# === 词性标注 + 名词提取 ===\n",
    "tagged = pos_tag(tokens, tagset=None, lang='eng')\n",
    "nltk_stopwords = set(stopwords.words('english'))"
   ]
  },
  {
   "cell_type": "code",
   "execution_count": null,
   "id": "c2050e6d",
   "metadata": {},
   "outputs": [],
   "source": [
    "# === 自定义停用词（结合政治语境）===\n",
    "custom_stopwords = {\n",
    "    \"election\", \"elections\", \"federal\", \"government\", \"campaign\", \"seat\", \"minister\",\n",
    "    \"votes\",\"vote\",\"voters\",\"voting\", \"elect\", \"electorate\", \"political\", \"candidate\", \"candidates\",\n",
    "    \"https\", \"http\", \"www\", \"com\", \"co\", \"amp\", \"rt\", \"via\",\"httpswww\",\n",
    "    \"australia\", \"australian\", \"canberra\", \"sydney\", \"melbourne\", \"nsw\", \"vic\", \"qld\",\n",
    "    \"said\", \"says\", \"get\", \"like\", \"think\", \"know\", \"also\", \"make\", \"still\",\n",
    "    \"one\", \"new\", \"day\", \"today\", \"year\", \"years\", \"people\"\n",
    "}\n",
    "combined_stopwords = nltk_stopwords.union(STOPWORDS).union(custom_stopwords)"
   ]
  },
  {
   "cell_type": "code",
   "execution_count": null,
   "id": "6f3b0c23",
   "metadata": {},
   "outputs": [],
   "source": [
    "# === 提取有意义的名词（排除停用词、非字母）===\n",
    "nouns = [\n",
    "    word for word, tag in tagged\n",
    "    if tag.startswith('NN') and word not in combined_stopwords and word.isalpha()\n",
    "]"
   ]
  },
  {
   "cell_type": "code",
   "execution_count": null,
   "id": "8b7293bc",
   "metadata": {},
   "outputs": [],
   "source": [
    "# === 词频统计 ===\n",
    "word_freq = Counter(nouns)"
   ]
  },
  {
   "cell_type": "code",
   "execution_count": null,
   "id": "81156b2c",
   "metadata": {},
   "outputs": [],
   "source": [
    "# === 加载形状蒙版（可选）===\n",
    "mask_image = np.array(Image.open(\"australia_mask1.png\"))  # 如果你已有澳洲轮廓图，可启用"
   ]
  },
  {
   "cell_type": "code",
   "execution_count": null,
   "id": "119ac7f1",
   "metadata": {},
   "outputs": [],
   "source": [
    "# === 生成词云 ===\n",
    "wc = WordCloud(\n",
    "    width=800,\n",
    "    height=400,\n",
    "    background_color='white',\n",
    "    max_words=300,\n",
    "    stopwords=combined_stopwords,\n",
    "    contour_width=3,\n",
    "    contour_color='skyblue',\n",
    "    colormap='plasma',\n",
    "    prefer_horizontal=0.9,\n",
    "    font_path=\"C:/Windows/Fonts/arial.ttf\",  # 改为 SimHei.ttf 若为中文\n",
    "    mask=mask_image\n",
    ")\n",
    "\n",
    "wc.generate_from_frequencies(word_freq)"
   ]
  },
  {
   "cell_type": "code",
   "execution_count": null,
   "id": "8e56b900",
   "metadata": {},
   "outputs": [],
   "source": [
    "# === 显示图像 ===\n",
    "plt.figure(figsize=(12, 10))\n",
    "plt.imshow(wc, interpolation='bilinear')\n",
    "plt.axis(\"off\")\n",
    "plt.title(\"Australian Federal Election – Word Cloud\", fontsize=20, weight='bold', color='midnightblue')\n",
    "plt.tight_layout(pad=0)\n",
    "plt.show()"
   ]
  }
 ],
 "metadata": {},
 "nbformat": 4,
 "nbformat_minor": 5
}
