{
 "cells": [
  {
   "cell_type": "code",
   "execution_count": 1,
   "id": "1c5a03a4",
   "metadata": {},
   "outputs": [
    {
     "name": "stdout",
     "output_type": "stream",
     "text": [
      "✔️ 已生成 client credentials: pytooter_clientcred.secret\n"
     ]
    }
   ],
   "source": [
    "from mastodon import Mastodon\n",
    "\n",
    "# 1. 在实例上注册应用，申请 client_id、client_secret\n",
    "Mastodon.create_app(\n",
    "    # 这里填你的实例域名\n",
    "    'my_data_app',                # 应用名称\n",
    "    api_base_url = 'https://mastodon.au',\n",
    "    scopes = ['read'],            # 只读权限：read、write、follow...\n",
    "    to_file = 'pytooter_clientcred.secret'\n",
    ")\n",
    "print(\"✔️ 已生成 client credentials: pytooter_clientcred.secret\")"
   ]
  },
  {
   "cell_type": "code",
   "execution_count": 2,
   "id": "9d9232dd",
   "metadata": {},
   "outputs": [
    {
     "name": "stdout",
     "output_type": "stream",
     "text": [
      "打开下面链接进行授权：\n",
      "https://mastodon.au/oauth/authorize?client_id=NzWMmU-9_L6Nxw_yLjps0dZoa1DgK89v49KyrbkW_gY&response_type=code&redirect_uri=urn%3Aietf%3Awg%3Aoauth%3A2.0%3Aoob&scope=read&force_login=False&state=None&lang=None\n",
      "✔️ 已获取 access_token： coWuV0VDLnjDqD5UIPuAGppZkF8Xq1dG7TXv4rNp9VU\n"
     ]
    }
   ],
   "source": [
    "from mastodon import Mastodon\n",
    "\n",
    "# 从上一步保存的文件中读取 client_id & client_secret\n",
    "mastodon = Mastodon(\n",
    "    client_id='pytooter_clientcred.secret',\n",
    "    api_base_url='https://mastodon.au'\n",
    ")\n",
    "\n",
    "# 生成授权 URL，浏览器打开后登录并批准，然后拿到 code（URL 参数里）\n",
    "print(\"打开下面链接进行授权：\")\n",
    "print(mastodon.auth_request_url(scopes=['read']))\n",
    "\n",
    "# 假设用户把 code 填到这里：\n",
    "code = input(\"请输入回调 URL 中的 ?code= 后面的字符串：\").strip()\n",
    "\n",
    "# 换取 access_token\n",
    "access_token = mastodon.log_in(\n",
    "    code=code,\n",
    "    scopes=['read']\n",
    ")\n",
    "print(\"✔️ 已获取 access_token：\", access_token)\n",
    "# 可以保存到文件，后续直接读取\n",
    "with open('pytooter_usercred.secret', 'w') as f:\n",
    "    f.write(access_token)"
   ]
  }
 ],
 "metadata": {
  "kernelspec": {
   "display_name": "base",
   "language": "python",
   "name": "python3"
  },
  "language_info": {
   "codemirror_mode": {
    "name": "ipython",
    "version": 3
   },
   "file_extension": ".py",
   "mimetype": "text/x-python",
   "name": "python",
   "nbconvert_exporter": "python",
   "pygments_lexer": "ipython3",
   "version": "3.12.9"
  }
 },
 "nbformat": 4,
 "nbformat_minor": 5
}
